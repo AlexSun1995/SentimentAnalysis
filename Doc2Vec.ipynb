{
 "cells": [
  {
   "cell_type": "code",
   "execution_count": 2,
   "metadata": {
    "collapsed": true
   },
   "outputs": [],
   "source": [
    "import sys\n",
    "import numpy as np\n",
    "import gensim\n",
    "import os\n",
    "import tensorflow as tf\n",
    "from gensim.models.doc2vec import Doc2Vec,LabeledSentence\n",
    "# from sklearn.cross_validation import train_test_split\n",
    "LabeledSentence = gensim.models.doc2vec.LabeledSentence\n",
    "import re"
   ]
  },
  {
   "cell_type": "code",
   "execution_count": 3,
   "metadata": {
    "collapsed": true
   },
   "outputs": [],
   "source": [
    "datasource_dir = r'/home/alexsun/ML/data_center/standford_large_movie_review_dataset/aclImdb/'\n",
    "\n",
    "class LabeledLineSentence(object):\n",
    "    def __init__(self, dir_name, tag='DATA'):\n",
    "        self.dir_name = dir_name\n",
    "        self.tag = tag\n",
    "        \n",
    "    @staticmethod\n",
    "    def multiple_replace(text, adict):\n",
    "        rx = re.compile('|'.join(map(re.escape, adict)))\n",
    "        def one_xlat(match):\n",
    "            return adict[match.group(0)]\n",
    "        return rx.sub(one_xlat, text)\n",
    "    \n",
    "    @staticmethod\n",
    "    def txt_process(txt):\n",
    "        text_replace_dic = {'<br />':'', '\\n':' ', '.':'', '?':'', '*':'', '$':''}\n",
    "        return LabeledLineSentence.multiple_replace(txt, text_replace_dic)\n",
    "    \n",
    "    def __iter__(self):\n",
    "        for uid, filename in enumerate(os.listdir(self.dir_name)):\n",
    "            with open(os.path.join(self.dir_name, filename), encoding='utf-8') as f:\n",
    "                new_line = LabeledLineSentence.txt_process(f.read())\n",
    "                new_line = [word.lower() for word in new_line.split()]\n",
    "                yield LabeledSentence(new_line ,[self.tag + str(uid)])"
   ]
  },
  {
   "cell_type": "code",
   "execution_count": 4,
   "metadata": {},
   "outputs": [
    {
     "name": "stdout",
     "output_type": "stream",
     "text": [
      "1\n",
      "2\n",
      "3\n",
      "4\n",
      "doc2vec.pickle already there! we just ignore training again\n"
     ]
    }
   ],
   "source": [
    "\n",
    "train_data_pos = LabeledLineSentence(os.path.join(datasource_dir, 'train/pos/'), 'TRAIN_POS')\n",
    "print('1')\n",
    "train_data_neg = LabeledLineSentence(os.path.join(datasource_dir, 'train/neg/'), 'TRAIN_NEG')\n",
    "print(\"2\")\n",
    "test_data_pos = LabeledLineSentence(os.path.join(datasource_dir, 'test/pos/'), 'TEST_POS')\n",
    "print(\"3\")\n",
    "test_data_neg = LabeledLineSentence(os.path.join(datasource_dir, 'test/neg/'), 'TEST_NEG')\n",
    "print(\"4\")\n",
    "class All_corpus():\n",
    "    def __init__(self):\n",
    "        self.all_data = [train_data_neg, train_data_pos, test_data_neg, test_data_pos]\n",
    "    def __iter__(self):\n",
    "        for data in self.all_data:\n",
    "            for item in data:\n",
    "                yield item\n",
    "\n",
    "def doc2vec_train(size=500):\n",
    "    save_pickle = os.path.join(datasource_dir, 'pickles/doc2vec.pickle')\n",
    "    if os.path.exists(save_pickle):\n",
    "        print('doc2vec.pickle already there! we just ignore training again')\n",
    "        model = Doc2Vec.load(save_pickle)\n",
    "        return model\n",
    "\n",
    "    model = Doc2Vec(min_count=5, window=10, size=size)\n",
    "    total_examples = 12500\n",
    "    model.build_vocab(All_corpus())\n",
    "    print('vocab builded!')\n",
    "    # 训练训练数据\n",
    "    for x_train in [train_data_neg, train_data_pos]:\n",
    "        model.train(x_train, total_examples=total_examples, epochs=5)\n",
    "    print('train data all processed!')\n",
    "    # 训练测试数据\n",
    "    for x_test in [test_data_neg, test_data_pos]:\n",
    "        model.train(x_test, total_examples=total_examples, epochs=5)\n",
    "    print('test data all processed!')\n",
    "    model.save(save_pickle)\n",
    "    return model\n",
    "\n",
    "doc2vec_model = doc2vec_train()\n",
    "                  \n"
   ]
  },
  {
   "cell_type": "code",
   "execution_count": 5,
   "metadata": {
    "collapsed": true
   },
   "outputs": [],
   "source": [
    "##读取向量\n",
    "def getVecs(model, corpus, size=500):\n",
    "    vecs = [np.array(model.docvecs[z.tags[0]]).reshape((1, size)) for z in corpus]\n",
    "    return np.concatenate(vecs)\n",
    "\n",
    "# train_pos = getVecs(model, train_data_pos)"
   ]
  },
  {
   "cell_type": "code",
   "execution_count": 6,
   "metadata": {
    "collapsed": true
   },
   "outputs": [],
   "source": [
    "# print(train_pos.shape)"
   ]
  },
  {
   "cell_type": "code",
   "execution_count": 7,
   "metadata": {},
   "outputs": [
    {
     "name": "stdout",
     "output_type": "stream",
     "text": [
      "total vocab size: 61271\n",
      "<class 'dict'>\n",
      "Vocab(count:273, index:3148, sample_int:4294967296)\n",
      "<class 'gensim.models.doc2vec.DocvecsArray'>\n"
     ]
    }
   ],
   "source": [
    "\n",
    "vocab_size = len(doc2vec_model.wv.vocab.keys())\n",
    "keys = doc2vec_model.wv.vocab\n",
    "print('total vocab size:', vocab_size)\n",
    "print(type(keys))\n",
    "print(keys['china'])\n",
    "print(type(doc2vec_model.docvecs))"
   ]
  },
  {
   "cell_type": "markdown",
   "metadata": {},
   "source": [
    "### RNN Model "
   ]
  },
  {
   "cell_type": "code",
   "execution_count": 8,
   "metadata": {
    "collapsed": true
   },
   "outputs": [],
   "source": [
    "# 输入层\n",
    "def build_inputs(num_seqs, vec_size=500):\n",
    "    '''\n",
    "    构建输入层\n",
    "    \n",
    "    num_seqs: 每个batch中的序列个数\n",
    "    vec_size: 每个batch中向量的长度\n",
    "    '''\n",
    "    inputs = tf.placeholder(tf.float32, shape=(num_seqs, vec_size), name='inputs')\n",
    "    targets = tf.placeholder(tf.int32, shape=(num_seqs), name='targets')\n",
    "    \n",
    "    # 加入keep_prob\n",
    "    keep_prob = tf.placeholder(tf.float32, name='keep_prob')\n",
    "    \n",
    "    return inputs, targets, keep_prob"
   ]
  },
  {
   "cell_type": "code",
   "execution_count": 9,
   "metadata": {},
   "outputs": [
    {
     "name": "stdout",
     "output_type": "stream",
     "text": [
      "Return zero-filled state tensor(s).\n",
      "\n",
      "    Args:\n",
      "      batch_size: int, float, or unit Tensor representing the batch size.\n",
      "      dtype: the data type to use for the state.\n",
      "\n",
      "    Returns:\n",
      "      If `state_size` is an int or TensorShape, then the return value is a\n",
      "      `N-D` tensor of shape `[batch_size x state_size]` filled with zeros.\n",
      "\n",
      "      If `state_size` is a nested list or tuple, then the return value is\n",
      "      a nested list or tuple (of the same structure) of `2-D` tensors with\n",
      "    the shapes `[batch_size x s]` for each s in `state_size`.\n",
      "    \n"
     ]
    }
   ],
   "source": [
    "def build_lstm(lstm_size, num_layers, batch_size, keep_prob):\n",
    "    # build a lstm cell\n",
    "    lstm = tf.contrib.rnn.BasicLSTMCell(lstm_size)\n",
    "    drop = tf.contrib.rnn.DropoutWrapper(cell=lstm, output_keep_prob=keep_prob)\n",
    "    # stack the lstm layers\n",
    "    cell = tf.contrib.rnn.MultiRNNCell([drop for _ in range(num_layers)])\n",
    "    initial_state = cell.zero_state(batch_size, tf.float32)\n",
    "    \n",
    "    return cell, initial_state\n",
    "# what's cell.zero_state().__doc__ ?\n",
    "print( tf.contrib.rnn.BasicLSTMCell(10).zero_state.__doc__)"
   ]
  },
  {
   "cell_type": "code",
   "execution_count": 10,
   "metadata": {
    "collapsed": true
   },
   "outputs": [],
   "source": [
    "def build_output(lstm_output, in_size, out_size):\n",
    "    ''' \n",
    "    构造输出层     \n",
    "    lstm_output: lstm层的输出结果\n",
    "    in_size: lstm输出层重塑后的size\n",
    "    out_size: softmax层的size\n",
    "    '''\n",
    "\n",
    "    # 将lstm的输出按照列concate，例如[[1,2,3],[7,8,9]],\n",
    "    # tf.concat的结果是[1,2,3,7,8,9]\n",
    "    # seq_output = tf.concat(lstm_output, axis=1) # tf.concat(concat_dim, values)\n",
    "    # reshape\n",
    "    x = lstm_output\n",
    "    print(x.shape)\n",
    "    \n",
    "    #  tf 变量共享问题总结\n",
    "    #　注意力层\n",
    "    with tf.variable_scope('attention'):\n",
    "        # why this shape?\n",
    "        attention_w = tf.Variable(tf.truncated_normal([100, 1, 500], stddev=0.1))\n",
    "        attention_b = tf.Variable(tf.zeros([500]))\n",
    "    \n",
    "    x = tf.matmul(attention_w, x)\n",
    "    # 将注意力层输出与softmax层全连接\n",
    "    with tf.variable_scope('softmax'):\n",
    "        softmax_w = tf.Variable(tf.truncated_normal([in_size, out_size], stddev=0.1))\n",
    "        softmax_b = tf.Variable(tf.zeros(out_size))\n",
    "    \n",
    "    x = tf.reshape(x, [-1, 64])\n",
    "    # 计算logits\n",
    "    logits = tf.matmul(x, softmax_w) + softmax_b\n",
    "    # softmax层返回概率分布\n",
    "    out = tf.nn.softmax(logits, name='predictions')\n",
    "    return out, logits\n",
    "\n",
    "\n",
    "def build_loss(out, logits, targets, lstm_size, num_classes):\n",
    "    '''\n",
    "    根据logits和targets计算损失\n",
    "    \n",
    "    logits: 全连接层的输出结果（不经过softmax）\n",
    "    targets: targets\n",
    "    lstm_size\n",
    "    num_classes: vocab_size\n",
    "        \n",
    "    '''\n",
    "    # One-hot编码\n",
    "    y_one_hot = tf.one_hot(targets, num_classes)\n",
    "    y_reshaped = tf.reshape(y_one_hot, logits.get_shape())\n",
    "    correct_prediction = tf.equal(tf.argmax(y_reshaped, 1), tf.argmax(out, 1))\n",
    "    accuracy = tf.reduce_mean(tf.cast(correct_prediction, tf.float32))\n",
    "    # y_reshaped = y_one_hot\n",
    "    # Softmax cross entropy loss\n",
    "    loss = tf.nn.softmax_cross_entropy_with_logits(logits=logits, labels=y_reshaped)\n",
    "    loss = tf.reduce_mean(loss)\n",
    "    return accuracy, loss\n",
    "\n",
    "\n",
    "def build_optimizer(loss, learning_rate, grad_clip):\n",
    "    ''' \n",
    "    构造Optimizer\n",
    "   \n",
    "    loss: 损失\n",
    "    learning_rate: 学习率\n",
    "    \n",
    "    '''\n",
    "    \n",
    "    # 使用clipping gradients\n",
    "    tvars = tf.trainable_variables()\n",
    "    grads, _ = tf.clip_by_global_norm(tf.gradients(loss, tvars), grad_clip)\n",
    "    train_op = tf.train.AdamOptimizer(learning_rate)\n",
    "    optimizer = train_op.apply_gradients(zip(grads, tvars))\n",
    "    \n",
    "    return optimizer\n",
    "\n",
    "\n"
   ]
  },
  {
   "cell_type": "code",
   "execution_count": 11,
   "metadata": {
    "collapsed": true
   },
   "outputs": [],
   "source": [
    "# 执行训练准备\n",
    "# 训练参数设置\n",
    "\n",
    "batch_size = 100         # Sequences per batch\n",
    "num_steps = 500          # Number of vector size\n",
    "lstm_size = 64         # Size of hidden layers in LSTMs\n",
    "num_layers = 1          # Number of LSTM layers\n",
    "learning_rate = 0.001    # Learning rate\n",
    "keep_prob = 0.5         # Dropout keep probability\n",
    "num_classes = 2  # 做情感分析时，　之后正向和负像情感类型\n"
   ]
  },
  {
   "cell_type": "code",
   "execution_count": 12,
   "metadata": {},
   "outputs": [],
   "source": [
    "\n",
    "# 训练数据准备：\n",
    "def get_batches(b_size = batch_size, vec_size = num_steps):\n",
    "    total_length = 12500\n",
    "    cnt = 0\n",
    "    batch_perclass = 50\n",
    "    pos_label = 'TRAIN_POS'\n",
    "    neg_label = 'TRAIN_NEG'\n",
    "    for i in range(0, total_length, batch_perclass):\n",
    "        x = np.zeros([b_size, vec_size])\n",
    "        y = []\n",
    "        for j in range(batch_perclass):\n",
    "            x[j:j+1, :] = doc2vec_model.docvecs[pos_label + str(i+j)]\n",
    "            y.append(1)\n",
    "        for j in range(batch_perclass):\n",
    "            x[j:j+1, :] = doc2vec_model.docvecs[neg_label + str(i+j)]\n",
    "            y.append(0)\n",
    "        y = np.array(y, dtype=np.int32)\n",
    "        # y = y.reshape(-1, b_size)\n",
    "        r = np.random.permutation(len(y))\n",
    "        y = y[r]\n",
    "        x = x[r, :]\n",
    "        # y = y.reshape([-1, b_size])\n",
    "        yield x, y\n",
    "\n",
    "        \n",
    "# 测试数据准备\n",
    "def get_batches_test(b_size = batch_size, vec_size = num_steps):\n",
    "    total_length = 12500\n",
    "    cnt = 0\n",
    "    batch_perclass = 50\n",
    "    pos_label = 'TEST_POS'\n",
    "    neg_label = 'TEST_NEG'\n",
    "    for i in range(0, total_length, batch_perclass):\n",
    "        x = np.zeros([b_size, vec_size])\n",
    "        y = []\n",
    "        for j in range(batch_perclass):\n",
    "            x[j:j+1, :] = doc2vec_model.docvecs[pos_label + str(i+j)]\n",
    "            y.append(1)\n",
    "        for j in range(batch_perclass):\n",
    "            x[j:j+1, :] = doc2vec_model.docvecs[neg_label + str(i+j)]\n",
    "            y.append(0)\n",
    "        y = np.array(y, dtype=np.int32)\n",
    "        # y = y.reshape(-1, b_size)\n",
    "        r = np.random.permutation(len(y))\n",
    "        y = y[r]\n",
    "        x = x[r, :]\n",
    "        # y = y.reshape([-1, b_size])\n",
    "        yield x, y\n"
   ]
  },
  {
   "cell_type": "code",
   "execution_count": 13,
   "metadata": {
    "collapsed": true
   },
   "outputs": [],
   "source": [
    "# 组合模型\n",
    "\n",
    "class CharRNN:\n",
    "    \n",
    "    def __init__(self, num_classes, batch_size=64, num_steps=50, \n",
    "                       lstm_size=128, num_layers=2, learning_rate=0.001, \n",
    "                       grad_clip=5, sampling=False):\n",
    "    \n",
    "        # 如果sampling是True，则采用SGD\n",
    "        if sampling == True:\n",
    "            batch_size, num_steps = 1, 1\n",
    "        else:\n",
    "            batch_size, num_steps = batch_size, num_steps\n",
    "\n",
    "        tf.reset_default_graph()\n",
    "        \n",
    "        # 输入层\n",
    "        self.inputs, self.targets, self.keep_prob = build_inputs(batch_size, num_steps)\n",
    "\n",
    "        # LSTM层\n",
    "        cell, self.initial_state = build_lstm(lstm_size, num_layers, batch_size, self.keep_prob)\n",
    "\n",
    "        ## 对输入进行one-hot编码\n",
    "        # x_one_hot = tf.one_hot(self.inputs, num_classes)\n",
    "        _input = tf.reshape(self.inputs, [batch_size, num_steps, -1])\n",
    "        # 运行RNN\n",
    "        outputs, state = tf.nn.dynamic_rnn(cell, _input, initial_state=self.initial_state,dtype=tf.float32)\n",
    "        self.final_state = state\n",
    "        \n",
    "        # 预测结果\n",
    "        self.prediction, self.logits = build_output(outputs, lstm_size, num_classes)\n",
    "        \n",
    "        # Loss 和 optimizer (with gradient clipping)\n",
    "        self.accuracy, self.loss = build_loss(self.prediction, self.logits, self.targets, lstm_size, num_classes)\n",
    "        self.optimizer = build_optimizer(self.loss, learning_rate, grad_clip)"
   ]
  },
  {
   "cell_type": "code",
   "execution_count": 14,
   "metadata": {},
   "outputs": [
    {
     "name": "stdout",
     "output_type": "stream",
     "text": [
      "(100, 500, 64)\n",
      "轮数: 1/3...  训练步数: 100...  训练误差: 0.5694...  1.1214 sec/batch 准确率:92.00000166893005%\n",
      "轮数: 1/3...  训练步数: 200...  训练误差: 0.0980...  1.1555 sec/batch 准确率:98.00000190734863%\n",
      "轮数: 2/3...  训练步数: 300...  训练误差: 0.0672...  1.1668 sec/batch 准确率:98.00000190734863%\n",
      "轮数: 2/3...  训练步数: 400...  训练误差: 0.0669...  0.6440 sec/batch 准确率:97.00000286102295%\n",
      "轮数: 2/3...  训练步数: 500...  训练误差: 0.0008...  0.6393 sec/batch 准确率:100.0%\n",
      "轮数: 3/3...  训练步数: 600...  训练误差: 0.0254...  0.6425 sec/batch 准确率:100.0%\n",
      "轮数: 3/3...  训练步数: 700...  训练误差: 0.0008...  0.6306 sec/batch 准确率:100.0%\n"
     ]
    }
   ],
   "source": [
    "# 执行训练\n",
    "import time\n",
    "epochs = 3\n",
    "# 每n轮进行一次变量保存\n",
    "save_every_n = 200\n",
    "model = CharRNN(num_classes, batch_size=batch_size, num_steps=num_steps,\n",
    "                lstm_size=lstm_size, num_layers=num_layers, \n",
    "                learning_rate=learning_rate)\n",
    "\n",
    "saver = tf.train.Saver(max_to_keep=100)\n",
    "with tf.Session() as sess:\n",
    "    sess.run(tf.global_variables_initializer())\n",
    "    \n",
    "    counter = 0\n",
    "    for e in range(epochs):\n",
    "        # Train network\n",
    "        new_state = sess.run(model.initial_state)\n",
    "        loss = 0\n",
    "        for x, y in get_batches(batch_size, num_steps):\n",
    "            counter += 1\n",
    "            start = time.time()\n",
    "            feed = {model.inputs: x,\n",
    "                    model.targets: y,\n",
    "                    model.keep_prob: keep_prob,\n",
    "                    model.initial_state: new_state}\n",
    "            batch_loss, new_state, _, _acc= sess.run([model.loss, \n",
    "                                                 model.final_state, \n",
    "                                                 model.optimizer,\n",
    "                                                 model.accuracy\n",
    "                                                 ], \n",
    "                                                 feed_dict=feed)\n",
    "            \n",
    "            end = time.time()\n",
    "            # control the print lines\n",
    "            if counter % 100 == 0:\n",
    "                print('轮数: {}/{}... '.format(e+1, epochs),\n",
    "                      '训练步数: {}... '.format(counter),\n",
    "                      '训练误差: {:.4f}... '.format(batch_loss),\n",
    "                      '{:.4f} sec/batch'.format((end-start)),\n",
    "                      '准确率:{}%'.format(_acc * 100.0)\n",
    "                      )\n",
    "\n",
    "            if (counter % save_every_n == 0):\n",
    "                # saver.save(sess, \"checkpoints/i{}_l{}.ckpt\".format(counter, lstm_size))\n",
    "                pass\n",
    "    \n",
    "    # saver.save(sess, \"checkpoints/i{}_l{}.ckpt\".format(counter, lstm_size))"
   ]
  },
  {
   "cell_type": "code",
   "execution_count": null,
   "metadata": {
    "collapsed": true
   },
   "outputs": [],
   "source": []
  }
 ],
 "metadata": {
  "kernelspec": {
   "display_name": "Python 3",
   "language": "python",
   "name": "python3"
  },
  "language_info": {
   "codemirror_mode": {
    "name": "ipython",
    "version": 3
   },
   "file_extension": ".py",
   "mimetype": "text/x-python",
   "name": "python",
   "nbconvert_exporter": "python",
   "pygments_lexer": "ipython3",
   "version": "3.5.2+"
  }
 },
 "nbformat": 4,
 "nbformat_minor": 2
}
